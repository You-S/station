{
 "cells": [
  {
   "cell_type": "code",
   "execution_count": null,
   "metadata": {},
   "outputs": [],
   "source": [
    "from bs4 import BeautifulSoup\n",
    "import requests\n",
    "import time\n",
    "\n",
    "url = \"https://ja.wikipedia.org/wiki/%E6%97%A5%E6%9C%AC%E3%81%AE%E9%89%84%E9%81%93%E9%A7%85%E4%B8%80%E8%A6%A7\"\n",
    "res = requests.get(url)\n",
    "soup = BeautifulSoup(res.content, \"html.parser\")\n",
    "\n",
    "contents = soup.find(\"div\",attrs={\"class\":\"mw-parser-output\"}).find(\"table\")\n",
    "linklists = contents.find_all(\"a\")\n",
    "\n",
    "stationList = []\n",
    "\n",
    "for linklist in linklists:\n",
    "    time.sleep(1)\n",
    "    url2 = \"https://ja.wikipedia.org\" + linklist.get('href')\n",
    "    res2 = requests.get(url2)\n",
    "    soup2 = BeautifulSoup(res2.content, \"html.parser\")\n",
    "    \n",
    "    time.sleep(1)\n",
    "    stations = soup2.find('div',attrs={\"class\":\"mw-parser-output\"}).find_all('li')\n",
    "    for station in stations:\n",
    "        if \"駅\" in station.text or \"停留所\" in station.text:\n",
    "            stationList.append(station.text)\n",
    "\n",
    "stationName = \"\\n\".join(stationList)\n",
    "\n",
    "with open(\"station.csv\",\"w\",encoding=\"utf-8\") as f:\n",
    "    f.write(stationName)"
   ]
  },
  {
   "cell_type": "code",
   "execution_count": null,
   "metadata": {},
   "outputs": [],
   "source": [
    "url = \"https://ja.wikipedia.org/wiki/%E6%97%A5%E6%9C%AC%E3%81%AE%E9%89%84%E9%81%93%E9%A7%85%E4%B8%80%E8%A6%A7\"\n",
    "res = requests.get(url)\n",
    "soup = BeautifulSoup(res.content, \"html.parser\")\n",
    "soup"
   ]
  },
  {
   "cell_type": "code",
   "execution_count": null,
   "metadata": {},
   "outputs": [],
   "source": [
    "contents = soup.find(\"div\",attrs={\"class\":\"mw-parser-output\"}).find(\"table\")\n",
    "contents"
   ]
  },
  {
   "cell_type": "code",
   "execution_count": null,
   "metadata": {},
   "outputs": [],
   "source": [
    "linklist = contents.find_all(\"a\")\n",
    "linklist"
   ]
  },
  {
   "cell_type": "code",
   "execution_count": null,
   "metadata": {},
   "outputs": [],
   "source": [
    "linklist[0].get('href')"
   ]
  },
  {
   "cell_type": "code",
   "execution_count": null,
   "metadata": {},
   "outputs": [],
   "source": [
    "url2 = \"https://ja.wikipedia.org\" + linklist[0].get('href')\n",
    "res2 = requests.get(url2)\n",
    "soup2 = BeautifulSoup(res2.content, \"html.parser\")\n",
    "soup2"
   ]
  },
  {
   "cell_type": "code",
   "execution_count": null,
   "metadata": {},
   "outputs": [],
   "source": [
    "stations = soup2.find('div',attrs={\"class\":\"mw-parser-output\"}).find_all('li')\n",
    "stations[492].text"
   ]
  },
  {
   "cell_type": "code",
   "execution_count": null,
   "metadata": {},
   "outputs": [],
   "source": [
    "stationList = []\n",
    "for station in stations:\n",
    "    if \"駅\" in station.text or \"停留所\" in station.text:\n",
    "        stationList.append(station.text)\n",
    "stationList"
   ]
  },
  {
   "cell_type": "code",
   "execution_count": null,
   "metadata": {},
   "outputs": [],
   "source": [
    "stationName = \"\\n\".join(stationList)\n",
    "stationName"
   ]
  },
  {
   "cell_type": "code",
   "execution_count": null,
   "metadata": {},
   "outputs": [],
   "source": [
    "with open(\"station.csv\",\"w\",encoding=\"utf-8\") as f:\n",
    "    f.write(stationName)"
   ]
  },
  {
   "cell_type": "code",
   "execution_count": null,
   "metadata": {},
   "outputs": [],
   "source": [
    "stationList"
   ]
  },
  {
   "cell_type": "code",
   "execution_count": null,
   "metadata": {},
   "outputs": [],
   "source": []
  }
 ],
 "metadata": {
  "interpreter": {
   "hash": "d925bc7fce97cc5df708b1e04fda8f3234bfbf8c834a8567751f043c0c75278a"
  },
  "kernelspec": {
   "display_name": "Python 3.9.7 64-bit",
   "language": "python",
   "name": "python3"
  },
  "language_info": {
   "codemirror_mode": {
    "name": "ipython",
    "version": 3
   },
   "file_extension": ".py",
   "mimetype": "text/x-python",
   "name": "python",
   "nbconvert_exporter": "python",
   "pygments_lexer": "ipython3",
   "version": "3.9.9"
  },
  "orig_nbformat": 4
 },
 "nbformat": 4,
 "nbformat_minor": 2
}
